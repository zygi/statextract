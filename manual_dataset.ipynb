{
 "cells": [
  {
   "cell_type": "code",
   "execution_count": 1,
   "metadata": {},
   "outputs": [],
   "source": [
    "import json\n",
    "from statextract.helpers import fetch_work\n",
    "with open('sampled_work_ids_med.txt', 'r') as f:\n",
    "    sampled_work_ids = f.read().splitlines()\n",
    "\n",
    "import random\n",
    "rng = random.Random(42)\n",
    "# # take 200 random works\n",
    "# sampled_work_ids = rng.sample(sampled_work_ids, 500)\n",
    "# sampled_work_ids = sampled_work_ids\n",
    "\n",
    "rng.shuffle(sampled_work_ids)\n",
    "\n",
    "works_fetched = [fetch_work(w) for w in sampled_work_ids]"
   ]
  },
  {
   "cell_type": "code",
   "execution_count": null,
   "metadata": {},
   "outputs": [],
   "source": [
    "import asyncio\n",
    "from statextract.fetchers.fetchers import CachingPaperFetcher, CombinedPaperFetcher\n",
    "from statextract.fetchers.lol_fetcher import LibraryLolFetcher\n",
    "from statextract.fetchers.openalex_fetcher import OpenAlexFetcher\n",
    "from statextract.md_retriever import parse_work\n",
    "from statextract.typedefs import PaperMD\n",
    "from pathlib import Path\n",
    "from statextract.get_dois import extract_text\n",
    "\n",
    "\n",
    "fetcher = CachingPaperFetcher(CombinedPaperFetcher([OpenAlexFetcher(), LibraryLolFetcher() ]))\n",
    "# fetcher = CombinedPaperFetcher([OpenAlexFetcher(), LibraryLolFetcher()])\n",
    "# mds = get_all_mds('A5072310807', first_author=True)\n",
    "\n",
    "def try_parse_work(w):\n",
    "    try:\n",
    "        return parse_work(w)\n",
    "    except Exception as e:\n",
    "        print(e)\n",
    "        return None\n",
    "\n",
    "mds = [w for w in [try_parse_work(w) for w in works_fetched] if w is not None]\n",
    "\n",
    "    # for md in mds:\n",
    "    #     print(md.id)\n",
    "    #     print(md.title)\n",
    "    #     print(md.doi)\n",
    "    #     print(md.full['type'])\n",
    "    #     print()\n",
    "\n",
    "    # print(len(mds))\n",
    "    # exit()\n",
    "\n",
    "\n",
    "# dois = [md.doi for md in mds]\n",
    "sem = asyncio.Semaphore(3)\n",
    "async def fetch_pdf(md: PaperMD):\n",
    "    async with sem:\n",
    "        return (md, await fetcher.fetch(md))\n",
    "\n",
    "pdf_urls = await asyncio.gather(*[fetch_pdf(md) for md in mds])"
   ]
  },
  {
   "cell_type": "code",
   "execution_count": null,
   "metadata": {},
   "outputs": [],
   "source": [
    "len (pdf_urls)"
   ]
  },
  {
   "cell_type": "code",
   "execution_count": 17,
   "metadata": {},
   "outputs": [
    {
     "name": "stdout",
     "output_type": "stream",
     "text": [
      "968\n",
      "467\n"
     ]
    }
   ],
   "source": [
    "\n",
    "\n",
    "from statextract.helpers import form_path_base\n",
    "\n",
    "\n",
    "mds = [md for (md, _) in pdf_urls if \"10.3390_bs9010011\" not in str(form_path_base(md)) and \"10.1037_pspi0000235\" not in str(form_path_base(md))]\n",
    "\n",
    "print(len(mds))\n",
    "\n",
    "extraction_status = extract_text(mds, Path(\"data/pdfs\"), Path(\"data/mds\"), Path(\"data/images\"), concurrent=3)\n",
    "\n",
    "mds_successful = [md for (md, success) in zip(mds, extraction_status) if success]\n",
    "print(len(mds_successful))"
   ]
  },
  {
   "cell_type": "code",
   "execution_count": 18,
   "metadata": {},
   "outputs": [
    {
     "name": "stdout",
     "output_type": "stream",
     "text": [
      "442 467\n"
     ]
    }
   ],
   "source": [
    "import pymupdf\n",
    "\n",
    "from statextract.helpers import form_path_base\n",
    "\n",
    "def get_num_pages(md: PaperMD):\n",
    "    pdf_url = Path(\"data/pdfs\") / f\"{form_path_base(md)}.pdf\"\n",
    "    pdf = pymupdf.open(pdf_url)\n",
    "    return pdf.page_count\n",
    "\n",
    "short_mds = [md for md in mds_successful if get_num_pages(md) <= 15]\n",
    "\n",
    "print(len(short_mds), len(mds_successful))"
   ]
  },
  {
   "cell_type": "code",
   "execution_count": 21,
   "metadata": {},
   "outputs": [],
   "source": [
    "# dump dois\n",
    "with open('short_mds_ids.json', 'w') as f:\n",
    "    json.dump([md.id for md in short_mds], f)\n"
   ]
  },
  {
   "cell_type": "code",
   "execution_count": null,
   "metadata": {},
   "outputs": [],
   "source": [
    "from statextract.helpers import form_path_base\n",
    "from statextract.prefilter import prefilter_regex\n",
    "\n",
    "\n",
    "sem_prefilter = asyncio.Semaphore(3)\n",
    "async def pvalue_prefilter(md: PaperMD, text_path: Path):\n",
    "    async with sem_prefilter:\n",
    "        if not text_path.exists():\n",
    "            return None\n",
    "        text = text_path.read_text()\n",
    "        first_pass = prefilter_regex(text)\n",
    "        return first_pass\n",
    "        # return False\n",
    "        \n",
    "\n",
    "# with multiprocess.Pool(3) as p:\n",
    "#     res = list(p.starmap(pvalue_prefilter, [(md, Path(\"data/mds\") / f\"{form_path_base(md)}.md\") for md in mds_successful]))\n",
    "# mds_successful = [md for md in mds_successful if md.title == 'Learning to administrate, administrating to learn.']\n",
    "\n",
    "\n",
    "res = await asyncio.gather(*[pvalue_prefilter(md, Path(\"data/mds\") / f\"{form_path_base(md)}.md\") for md in mds_successful])\n",
    "mds_successful = [md for (md, success) in zip(mds_successful, res) if success]\n",
    "\n",
    "len(mds_successful)\n",
    "    "
   ]
  },
  {
   "cell_type": "code",
   "execution_count": null,
   "metadata": {},
   "outputs": [],
   "source": [
    "WSL_PATH_BASE = Path(\"wsl.localhost/Ubuntu-22.04\")\n",
    "\n",
    "paths = [WSL_PATH_BASE / \"mnt\" / \"storage\" / \"python\" / \"pcurves\" / \"data\" / \"pdfs\" / f\"{form_path_base(md)}.pdf\" for md in mds_successful]\n",
    "\n",
    "for p in paths:\n",
    "    print(f\"file://{p}\")\n"
   ]
  }
 ],
 "metadata": {
  "kernelspec": {
   "display_name": ".venv",
   "language": "python",
   "name": "python3"
  },
  "language_info": {
   "codemirror_mode": {
    "name": "ipython",
    "version": 3
   },
   "file_extension": ".py",
   "mimetype": "text/x-python",
   "name": "python",
   "nbconvert_exporter": "python",
   "pygments_lexer": "ipython3",
   "version": "3.12.7"
  }
 },
 "nbformat": 4,
 "nbformat_minor": 2
}
