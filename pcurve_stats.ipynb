{
 "cells": [
  {
   "cell_type": "code",
   "execution_count": 2,
   "metadata": {},
   "outputs": [],
   "source": [
    "import numpy as np\n",
    "from scipy import stats\n",
    "from scipy.stats import rv_continuous\n",
    "\n",
    "class pvalue_distribution(rv_continuous):\n",
    "    def __init__(self, d, n, *args, **kwargs):\n",
    "        super().__init__(*args, **kwargs)\n",
    "        self.d = d  # Effect size\n",
    "        self.n = n  # Degrees of freedom\n",
    "        self.delta = d * np.sqrt(n)  # Non-centrality parameter\n",
    "\n",
    "    def _pdf(self, p):\n",
    "        \"\"\"\n",
    "        Probability density function of the p-value distribution.\n",
    "        \"\"\"\n",
    "        # Critical t-value under the null hypothesis for a two-sided test\n",
    "        t_c = stats.t.ppf(1 - p / 2, self.n)\n",
    "\n",
    "        # PDFs of the non-central t-distribution at t_c and -t_c\n",
    "        nct_pdf_pos = stats.nct.pdf(t_c, self.n, self.delta)\n",
    "        nct_pdf_neg = stats.nct.pdf(-t_c, self.n, self.delta)\n",
    "\n",
    "        # PDF of the central t-distribution at t_c\n",
    "        t_pdf = stats.t.pdf(t_c, self.n)\n",
    "\n",
    "        # Compute the derivative dt_c/dp\n",
    "        dt_c_dp = -1 / (2 * t_pdf)\n",
    "\n",
    "        # Compute the PDF of the p-value distribution\n",
    "        pdf = (nct_pdf_pos - nct_pdf_neg) * np.abs(dt_c_dp)\n",
    "        return pdf\n",
    "\n",
    "    def _cdf(self, p):\n",
    "        \"\"\"\n",
    "        Cumulative distribution function of the p-value distribution.\n",
    "        \"\"\"\n",
    "        # Critical t-value under the null hypothesis for a two-sided test\n",
    "        t_c = stats.t.ppf(1 - p / 2, self.n)\n",
    "\n",
    "        # CDFs of the non-central t-distribution\n",
    "        nct_cdf_pos = stats.nct.sf(t_c, self.n, self.delta)  # Survival function for T >= t_c\n",
    "        nct_cdf_neg = stats.nct.cdf(-t_c, self.n, self.delta)  # CDF for T <= -t_c\n",
    "\n",
    "        # Compute the CDF of the p-value distribution\n",
    "        cdf = nct_cdf_pos + nct_cdf_neg\n",
    "        return cdf\n",
    "\n",
    "    def _rvs(self, size=None, random_state=None):\n",
    "        \"\"\"\n",
    "        Random variates of the p-value distribution.\n",
    "        \"\"\"\n",
    "        # Generate random t-values from the non-central t-distribution\n",
    "        t_values = stats.nct.rvs(df=self.n, nc=self.delta, size=size, random_state=random_state)\n",
    "\n",
    "        # Compute the corresponding p-values\n",
    "        p_values = 2 * stats.t.sf(np.abs(t_values), df=self.n)\n",
    "        return p_values"
   ]
  },
  {
   "cell_type": "code",
   "execution_count": 103,
   "metadata": {},
   "outputs": [
    {
     "data": {
      "text/plain": [
       "np.float64(0.0)"
      ]
     },
     "execution_count": 103,
     "metadata": {},
     "output_type": "execute_result"
    }
   ],
   "source": [
    "pvalue_distribution(d=0.0, n=100).pdf(0.05)"
   ]
  },
  {
   "cell_type": "code",
   "execution_count": 105,
   "metadata": {},
   "outputs": [
    {
     "data": {
      "text/plain": [
       "(0.07965567455361756, 3.423864525231579e-10)"
      ]
     },
     "execution_count": 105,
     "metadata": {},
     "output_type": "execute_result"
    }
   ],
   "source": [
    "# as a test, integrate the pdf from 0 to 1\n",
    "from scipy.integrate import quad\n",
    "quad(pvalue_distribution(d=0.01, n=100).pdf, 0, 1)\n"
   ]
  },
  {
   "cell_type": "code",
   "execution_count": 100,
   "metadata": {},
   "outputs": [
    {
     "data": {
      "text/plain": [
       "np.float64(0.040817203588919826)"
      ]
     },
     "execution_count": 100,
     "metadata": {},
     "output_type": "execute_result"
    }
   ],
   "source": [
    "pvalue_distribution(d=0.5, n=100).pdf(0.05)\n",
    "\n"
   ]
  },
  {
   "cell_type": "code",
   "execution_count": 12,
   "metadata": {},
   "outputs": [],
   "source": [
    "dist = pvalue_distribution(d=0.5, n=100)\n",
    "import matplotlib.pyplot as plt\n",
    "\n",
    "# sample 10000 p-values and draw a histogram\n",
    "p_values = dist.rvs(size=10000)\n",
    "# plt.hist(p_values, bins=50, density=True, alpha=0.75)\n",
    "# plt.show()"
   ]
  },
  {
   "cell_type": "code",
   "execution_count": 22,
   "metadata": {},
   "outputs": [
    {
     "name": "stdout",
     "output_type": "stream",
     "text": [
      "KS Statistic: 0.0005243641415109135, p-value: 0.946057384199996\n"
     ]
    }
   ],
   "source": [
    "from scipy.stats import kstest\n",
    "\n",
    "# Generate a large sample of p-values\n",
    "p_values = dist.rvs(size=1000000)\n",
    "\n",
    "# Perform the KS test\n",
    "D, p_value = kstest(p_values, dist.cdf)\n",
    "\n",
    "print(f\"KS Statistic: {D}, p-value: {p_value}\")"
   ]
  },
  {
   "cell_type": "code",
   "execution_count": 23,
   "metadata": {},
   "outputs": [],
   "source": [
    "cut_off_pvals = p_values[p_values < 0.05]"
   ]
  },
  {
   "cell_type": "code",
   "execution_count": 74,
   "metadata": {},
   "outputs": [
    {
     "data": {
      "text/plain": [
       "np.float64(9.185376507503729e-60)"
      ]
     },
     "execution_count": 74,
     "metadata": {},
     "output_type": "execute_result"
    }
   ],
   "source": [
    "# def estimate_effect_size(p_values):\n",
    "def test_for_right_skew(p_values, verbose=False):\n",
    "    pps = p_values / 0.05\n",
    "\n",
    "    # Ensure pps values are within (0, 1)\n",
    "    pps = pps[(pps > 0) & (pps < 1)]  # Exclude pps == 0 and pps == 1 to avoid infinities\n",
    "\n",
    "    if len(pps) == 0:\n",
    "        if verbose:\n",
    "            print(\"No p-values in the range to test.\")\n",
    "        return None\n",
    "\n",
    "    # Clip pps to avoid issues with extreme values\n",
    "    pps = np.clip(pps, 1e-10, 1 - 1e-10)\n",
    "\n",
    "    # Compute z-scores for each pps using Stouffer's method\n",
    "    z_scores = stats.norm.isf(pps)\n",
    "\n",
    "    # Compute combined Z-score\n",
    "    combined_z = np.sum(z_scores) / np.sqrt(len(z_scores))\n",
    "\n",
    "    # Compute the p-value associated with the combined Z-score\n",
    "    p_value = stats.norm.sf(combined_z)\n",
    "\n",
    "    if verbose:\n",
    "        print(f\"Stouffer's method combined Z-score: {combined_z}, p-value: {p_value}\")\n",
    "\n",
    "    return p_value\n",
    "    \n",
    "vals = pvalue_distribution(d=0.1, n=100).rvs(size=10000)\n",
    "vals = vals[vals < 0.05]\n",
    "test_for_right_skew(vals)\n"
   ]
  },
  {
   "cell_type": "code",
   "execution_count": 72,
   "metadata": {},
   "outputs": [
    {
     "data": {
      "text/plain": [
       "np.float64(0.21750721235294931)"
      ]
     },
     "execution_count": 72,
     "metadata": {},
     "output_type": "execute_result"
    }
   ],
   "source": [
    "# now, let's devise a different test, something that partitions the p-values into three buckets: [0, 0.001), [0.001, 0.01), [0.01, 0.05] , and checks if the proportions of p-values in each bucket are as expected under the null hypothesis.\n",
    "\n",
    "def test_for_right_skew_2(p_values, verbose=False):\n",
    "    import numpy as np\n",
    "    from scipy.stats import chisquare\n",
    "\n",
    "    # Define bins\n",
    "    bins = [0, 0.001, 0.01, 0.05]\n",
    "\n",
    "    # Filter p-values to be within [0, 0.05]\n",
    "    p_values = p_values[(p_values >= 0) & (p_values <= 0.05)]\n",
    "    n = len(p_values)\n",
    "    if n == 0:\n",
    "        if verbose:\n",
    "            print(\"No p-values in the range to test.\")\n",
    "        return None\n",
    "\n",
    "    # Compute observed counts in each bin\n",
    "    observed_counts, _ = np.histogram(p_values, bins=bins)\n",
    "\n",
    "    # Compute expected counts under the null hypothesis (uniform distribution)\n",
    "    bin_widths = np.diff(bins)\n",
    "    total_width = 0.05  # Total width of the range\n",
    "    expected_proportions = bin_widths / total_width\n",
    "    expected_counts = n * expected_proportions\n",
    "\n",
    "    # Perform chi-squared goodness-of-fit test\n",
    "    chi2_statistic, p_value = chisquare(f_obs=observed_counts, f_exp=expected_counts)\n",
    "\n",
    "    if verbose:\n",
    "        print(f\"Chi-squared statistic: {chi2_statistic}, p-value: {p_value}\")\n",
    "\n",
    "    return p_value\n",
    "\n",
    "vals = pvalue_distribution(d=0.0, n=100).rvs(size=10000)\n",
    "vals = vals[vals < 0.05]\n",
    "test_for_right_skew_2(vals)\n"
   ]
  },
  {
   "cell_type": "code",
   "execution_count": 98,
   "metadata": {},
   "outputs": [
    {
     "data": {
      "image/png": "[encoded data removed]",
      "text/plain": [
       "<Figure size 1000x600 with 1 Axes>"
      ]
     },
     "metadata": {},
     "output_type": "display_data"
    }
   ],
   "source": [
    "# now let's confirm the power of these two tests\n",
    "\n",
    "import numpy as np\n",
    "import matplotlib.pyplot as plt\n",
    "import multiprocessing\n",
    "from typing import Callable, List, Optional\n",
    "\n",
    "def single_simulation(\n",
    "    test_func: Callable[[np.ndarray], Optional[float]],\n",
    "    d: float,\n",
    "    n: int,\n",
    "    alpha: float\n",
    ") -> int:\n",
    "    # Generate p-values under effect size d\n",
    "    pvals = pvalue_distribution(d=d, n=n).rvs(size=n)\n",
    "    pvals = pvals[pvals < 0.05]\n",
    "    # Apply the test\n",
    "    p_value = test_func(pvals)\n",
    "    if p_value is not None and p_value < alpha:\n",
    "        return 1\n",
    "    else:\n",
    "        return 0\n",
    "\n",
    "def estimate_power(\n",
    "    test_func: Callable[[np.ndarray], Optional[float]],\n",
    "    n_values: np.ndarray,\n",
    "    n_simulations: int = 1000,\n",
    "    d: float = 0.1,\n",
    "    alpha: float = 0.05\n",
    ") -> List[float]:\n",
    "    powers: List[float] = []\n",
    "    for n in n_values:\n",
    "        n_int = int(n)  # Ensure n is an integer\n",
    "        args_list = ((test_func, d, n_int, alpha) for _ in range(n_simulations))\n",
    "        with multiprocessing.Pool(16) as pool:\n",
    "            results = pool.starmap(single_simulation, args_list)\n",
    "        rejections = sum(results)\n",
    "        power = rejections / n_simulations\n",
    "        powers.append(power)\n",
    "    return powers\n",
    "\n",
    "d_fixed = 0.2  # Fixed effect size\n",
    "n_values = np.arange(20, 101, 5)  # Vary n from 20 to 200 in steps of 10\n",
    "n_simulations = 100000\n",
    "alpha = 0.01\n",
    "\n",
    "# Estimate power for test_for_right_skew\n",
    "power_test1 = estimate_power(test_for_right_skew, n_values, n_simulations, d_fixed, alpha)\n",
    "\n",
    "# Estimate power for test_for_right_skew_2\n",
    "power_test2 = estimate_power(test_for_right_skew_2, n_values, n_simulations, d_fixed, alpha)\n",
    "\n",
    "# Plot the power curves\n",
    "plt.figure(figsize=(10, 6))\n",
    "plt.plot(n_values, power_test1, label=\"Stouffer's method\")\n",
    "plt.plot(n_values, power_test2, label='3 buckets and chi-squared test')\n",
    "plt.xlabel('Sample Size (n)')\n",
    "plt.ylabel('Power')\n",
    "plt.title(f'Power Curve of Two Tests at d={d_fixed}, alpha={alpha}')\n",
    "plt.legend()\n",
    "plt.grid(True)\n",
    "plt.show()\n"
   ]
  },
  {
   "cell_type": "code",
   "execution_count": 25,
   "metadata": {},
   "outputs": [
    {
     "name": "stderr",
     "output_type": "stream",
     "text": [
      "/tmp/ipykernel_18108/3241248290.py:27: RuntimeWarning: divide by zero encountered in divide\n",
      "  dt_c_dp = -1 / (2 * t_pdf)\n"
     ]
    },
    {
     "name": "stdout",
     "output_type": "stream",
     "text": [
      "Estimated effect size (d): 0.7639320225002102\n"
     ]
    }
   ],
   "source": [
    "# from scipy.optimize import minimize_scalar\n",
    "\n",
    "# # Define the negative log-likelihood function\n",
    "# def neg_log_likelihood(d, pvals, n):\n",
    "#     dist = pvalue_distribution(d=d, n=n)\n",
    "#     pdf_values = dist.pdf(pvals)\n",
    "#     # Avoid log(0) by setting very small pdf values to a minimum positive value\n",
    "#     pdf_values = np.maximum(pdf_values, 1e-300)\n",
    "#     return -np.sum(np.log(pdf_values))\n",
    "\n",
    "# # Estimate the effect size by minimizing the negative log-likelihood\n",
    "# result = minimize_scalar(neg_log_likelihood, args=(cut_off_pvals, 100), bounds=(0, 2), method='bounded')\n",
    "\n",
    "# # Extract the estimated effect size\n",
    "# estimated_d = result.x\n",
    "\n",
    "# print(f\"Estimated effect size (d): {estimated_d}\")\n"
   ]
  },
  {
   "cell_type": "code",
   "execution_count": 95,
   "metadata": {},
   "outputs": [
    {
     "data": {
      "text/plain": [
       "TtestResult(statistic=np.float64(281.10582130481555), pvalue=np.float64(0.0), df=np.float64(19997.88029039437))"
      ]
     },
     "execution_count": 95,
     "metadata": {},
     "output_type": "execute_result"
    }
   ],
   "source": [
    "np.random.seed(42)\n",
    "test_d1 = np.random.normal(0.2, 0.05, size=10000)\n",
    "test_d2 = np.random.normal(0.0, 0.05, size=10000)\n",
    "\n",
    "# welch's t-test\n",
    "stats.ttest_ind(test_d1, test_d2, equal_var=False)\n",
    "\n"
   ]
  },
  {
   "cell_type": "code",
   "execution_count": null,
   "metadata": {},
   "outputs": [],
   "source": []
  }
 ],
 "metadata": {
  "kernelspec": {
   "display_name": ".venv",
   "language": "python",
   "name": "python3"
  },
  "language_info": {
   "codemirror_mode": {
    "name": "ipython",
    "version": 3
   },
   "file_extension": ".py",
   "mimetype": "text/x-python",
   "name": "python",
   "nbconvert_exporter": "python",
   "pygments_lexer": "ipython3",
   "version": "3.12.7"
  }
 },
 "nbformat": 4,
 "nbformat_minor": 2
}
